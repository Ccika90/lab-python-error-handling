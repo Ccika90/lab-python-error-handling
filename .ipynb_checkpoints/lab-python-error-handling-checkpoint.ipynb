{
 "cells": [
  {
   "cell_type": "markdown",
   "id": "25d7736c-ba17-4aff-b6bb-66eba20fbf4e",
   "metadata": {},
   "source": [
    "# Lab | Error Handling"
   ]
  },
  {
   "cell_type": "markdown",
   "id": "bc99b386-7508-47a0-bcdb-d969deaf6c8b",
   "metadata": {},
   "source": [
    "## Exercise: Error Handling for Managing Customer Orders\n",
    "\n",
    "The implementation of your code for managing customer orders assumes that the user will always enter a valid input. \n",
    "\n",
    "For example, we could modify the `initialize_inventory` function to include error handling.\n",
    "   - If the user enters an invalid quantity (e.g., a negative value or a non-numeric value), display an error message and ask them to re-enter the quantity for that product.\n",
    "   - Use a try-except block to handle the error and continue prompting the user until a valid quantity is entered.\n",
    "\n",
    "```python\n",
    "# Step 1: Define the function for initializing the inventory with error handling\n",
    "def initialize_inventory(products):\n",
    "    inventory = {}\n",
    "    for product in products:\n",
    "        valid_quantity = False\n",
    "        while not valid_quantity:\n",
    "            try:\n",
    "                quantity = int(input(f\"Enter the quantity of {product}s available: \"))\n",
    "                if quantity < 0:\n",
    "                    raise ValueError(\"Invalid quantity! Please enter a non-negative value.\")\n",
    "                valid_quantity = True\n",
    "            except ValueError as error:\n",
    "                print(f\"Error: {error}\")\n",
    "        inventory[product] = quantity\n",
    "    return inventory\n",
    "\n",
    "# Or, in another way:\n",
    "\n",
    "def initialize_inventory(products):\n",
    "    inventory = {}\n",
    "    for product in products:\n",
    "        valid_input = False\n",
    "        while not valid_input:\n",
    "            try:\n",
    "                quantity = int(input(f\"Enter the quantity of {product}s available: \"))\n",
    "                if quantity >= 0:\n",
    "                    inventory[product] = quantity\n",
    "                    valid_input = True\n",
    "                else:\n",
    "                    print(\"Quantity cannot be negative. Please enter a valid quantity.\")\n",
    "            except ValueError:\n",
    "                print(\"Invalid input. Please enter a valid quantity.\")\n",
    "    return inventory\n",
    "```\n",
    "\n",
    "Let's enhance your code by implementing error handling to handle invalid inputs.\n",
    "\n",
    "Follow the steps below to complete the exercise:\n",
    "\n",
    "2. Modify the `calculate_total_price` function to include error handling.\n",
    "   - If the user enters an invalid price (e.g., a negative value or a non-numeric value), display an error message and ask them to re-enter the price for that product.\n",
    "   - Use a try-except block to handle the error and continue prompting the user until a valid price is entered.\n",
    "\n",
    "3. Modify the `get_customer_orders` function to include error handling.\n",
    "   - If the user enters an invalid number of orders (e.g., a negative value or a non-numeric value), display an error message and ask them to re-enter the number of orders.\n",
    "   - If the user enters an invalid product name (e.g., a product name that is not in the inventory), or that doesn't have stock available, display an error message and ask them to re-enter the product name. *Hint: you will need to pass inventory as a parameter*\n",
    "   - Use a try-except block to handle the error and continue prompting the user until a valid product name is entered.\n",
    "\n",
    "4. Test your code by running the program and deliberately entering invalid quantities and product names. Make sure the error handling mechanism works as expected.\n"
   ]
  },
  {
   "cell_type": "code",
   "execution_count": 32,
   "id": "64c5e98b-eebc-4aea-921c-b61e79214c13",
   "metadata": {},
   "outputs": [],
   "source": [
    "# Step 1: Initialize inventory with error handling\n",
    "def initialize_inventory(products):\n",
    "    inventory = {}\n",
    "    for product in products:\n",
    "        valid_quantity = False\n",
    "        while not valid_quantity:\n",
    "            try:\n",
    "                quantity = int(input(f\"Enter the quantity of {product}s available: \"))\n",
    "                if quantity < 0:\n",
    "                    raise ValueError(\"Invalid quantity! Please enter a non-negative value.\")\n",
    "                valid_quantity = True\n",
    "            except ValueError as error:\n",
    "                print(f\"Error: {error}\")\n",
    "        inventory[product] = quantity\n",
    "    return inventory"
   ]
  },
  {
   "cell_type": "code",
   "execution_count": 33,
   "id": "3bcbd70c-e208-4fd6-9eaf-ea7799fd9b8a",
   "metadata": {},
   "outputs": [],
   "source": [
    "# Step 2: Get customer orders with error handling\n",
    "def get_customer_orders(inventory):\n",
    "    customer_orders = {}\n",
    "    valid_num_orders = False\n",
    "\n",
    "    # Get the number of orders with error handling\n",
    "    while not valid_num_orders:\n",
    "        try:\n",
    "            num_orders = int(input(\"Enter the number of customer orders: \"))\n",
    "            if num_orders < 0:\n",
    "                raise ValueError(\"Invalid number of orders! Please enter a non-negative value.\")\n",
    "            valid_num_orders = True\n",
    "        except ValueError as error:\n",
    "            print(f\"Error: {error}\")\n",
    "\n",
    "    # Get product names and quantities with error handling\n",
    "    for _ in range(num_orders):\n",
    "        valid_product = False\n",
    "        while not valid_product:\n",
    "            product_name = input(\"Enter the name of the product: \").strip().lower()\n",
    "            if product_name not in inventory or inventory[product_name] <= 0:\n",
    "                print(f\"Error: '{product_name}' is either not in inventory or out of stock. Please try again.\")\n",
    "            else:\n",
    "                valid_product = True\n",
    "\n",
    "        valid_quantity = False\n",
    "        while not valid_quantity:\n",
    "            try:\n",
    "                quantity = int(input(f\"Enter the quantity of {product_name}s to order: \"))\n",
    "                if quantity < 0 or quantity > inventory[product_name]:\n",
    "                    raise ValueError(f\"Invalid quantity! Please enter a value between 0 and {inventory[product_name]}.\")\n",
    "                valid_quantity = True\n",
    "            except ValueError as error:\n",
    "                print(f\"Error: {error}\")\n",
    "\n",
    "        # Add the valid product and quantity to customer orders\n",
    "        customer_orders[product_name] = customer_orders.get(product_name, 0) + quantity\n",
    "\n",
    "    return customer_orders\n"
   ]
  },
  {
   "cell_type": "code",
   "execution_count": 34,
   "id": "c303b7a8-e488-42d1-a12f-65b54d686686",
   "metadata": {},
   "outputs": [],
   "source": [
    "# Step 3: Calculate total price with error handling\n",
    "def calculate_total_price(customer_orders):\n",
    "    total_price = 0.0\n",
    "    for product, quantity in customer_orders.items():\n",
    "        valid_price = False\n",
    "        while not valid_price:\n",
    "            try:\n",
    "                price = float(input(f\"Enter the price of {product}: \"))\n",
    "                if price < 0:\n",
    "                    raise ValueError(\"Invalid price! Please enter a non-negative value.\")\n",
    "                valid_price = True\n",
    "                total_price += price * quantity\n",
    "            except ValueError as error:\n",
    "                print(f\"Error: {error}\")\n",
    "    return total_price\n"
   ]
  },
  {
   "cell_type": "code",
   "execution_count": 35,
   "id": "3b972a75-ccd8-4a4e-9bdc-d38f7f1cfd9f",
   "metadata": {},
   "outputs": [],
   "source": [
    "# Step 4: Update inventory and remove products with zero quantity\n",
    "def update_inventory(customer_orders, inventory):\n",
    "    for product, quantity in customer_orders.items():\n",
    "        if product in inventory:\n",
    "            inventory[product] -= quantity\n",
    "            if inventory[product] <= 0:\n",
    "                del inventory[product]  # Remove products with zero or negative quantity\n",
    "    return inventory"
   ]
  },
  {
   "cell_type": "code",
   "execution_count": 36,
   "id": "5135d477-32bf-4691-8d18-3f220a6282b7",
   "metadata": {},
   "outputs": [],
   "source": [
    "# Step 5: Calculate order statistics\n",
    "def calculate_order_statistics(customer_orders, products):\n",
    "    total_products_ordered = len(customer_orders)\n",
    "    percentage_ordered = (total_products_ordered / len(products)) * 100\n",
    "    return total_products_ordered, percentage_ordered"
   ]
  },
  {
   "cell_type": "code",
   "execution_count": 37,
   "id": "f089d7ac-e52d-441f-944f-334087a07828",
   "metadata": {},
   "outputs": [],
   "source": [
    "# Step 6: Print order statistics\n",
    "def print_order_statistics(order_statistics):\n",
    "    print(\"Order Statistics:\")\n",
    "    print(\"Total Products Ordered:\", order_statistics[0])\n",
    "    print(\"Percentage of Unique Products Ordered:\", order_statistics[1])"
   ]
  },
  {
   "cell_type": "code",
   "execution_count": 38,
   "id": "7493f3d5-7743-4659-937f-9d983435f9d4",
   "metadata": {},
   "outputs": [],
   "source": [
    "# Step 7: Print updated inventory\n",
    "def print_updated_inventory(inventory):\n",
    "    print(\"Updated Inventory:\")\n",
    "    for product, quantity in inventory.items():\n",
    "        print(f\"{product}: {quantity}\")"
   ]
  },
  {
   "cell_type": "code",
   "execution_count": 39,
   "id": "138f4198-1730-486a-801d-4cec481c5802",
   "metadata": {},
   "outputs": [
    {
     "name": "stdin",
     "output_type": "stream",
     "text": [
      "Enter the quantity of t-shirts available:  5\n",
      "Enter the quantity of mugs available:  4\n",
      "Enter the quantity of hats available:  3\n",
      "Enter the quantity of books available:  2\n",
      "Enter the quantity of keychains available:  1\n",
      "Enter the number of customer orders:  3\n",
      "Enter the name of the product:  mug\n",
      "Enter the quantity of mugs to order:  hat\n"
     ]
    },
    {
     "name": "stdout",
     "output_type": "stream",
     "text": [
      "Error: invalid literal for int() with base 10: 'hat'\n"
     ]
    },
    {
     "name": "stdin",
     "output_type": "stream",
     "text": [
      "Enter the quantity of mugs to order:  1\n",
      "Enter the name of the product:  hat\n",
      "Enter the quantity of hats to order:  keychain\n"
     ]
    },
    {
     "name": "stdout",
     "output_type": "stream",
     "text": [
      "Error: invalid literal for int() with base 10: 'keychain'\n"
     ]
    },
    {
     "name": "stdin",
     "output_type": "stream",
     "text": [
      "Enter the quantity of hats to order:  1\n",
      "Enter the name of the product:  keychain\n",
      "Enter the quantity of keychains to order:  1\n",
      "Enter the price of mug:  20.99\n",
      "Enter the price of hat:  12.39\n",
      "Enter the price of keychain:  2.29\n"
     ]
    },
    {
     "name": "stdout",
     "output_type": "stream",
     "text": [
      "Order Statistics:\n",
      "Total Products Ordered: 3\n",
      "Percentage of Unique Products Ordered: 60.0\n",
      "Updated Inventory:\n",
      "t-shirt: 5\n",
      "mug: 3\n",
      "hat: 2\n",
      "book: 2\n",
      "Total Price: 35.67\n"
     ]
    }
   ],
   "source": [
    "# Step 8: Main function\n",
    "def main():\n",
    "    products = [\"t-shirt\", \"mug\", \"hat\", \"book\", \"keychain\"]\n",
    "    inventory = initialize_inventory(products)\n",
    "    customer_orders = get_customer_orders(inventory)\n",
    "    total_price = calculate_total_price(customer_orders)\n",
    "    inventory = update_inventory(customer_orders, inventory)\n",
    "    order_statistics = calculate_order_statistics(customer_orders, products)\n",
    "    print_order_statistics(order_statistics)\n",
    "    print_updated_inventory(inventory)\n",
    "    print(f\"Total Price: {total_price:.2f}\")\n",
    "\n",
    "# Execute the program\n",
    "main()"
   ]
  }
 ],
 "metadata": {
  "kernelspec": {
   "display_name": "Python [conda env:base] *",
   "language": "python",
   "name": "conda-base-py"
  },
  "language_info": {
   "codemirror_mode": {
    "name": "ipython",
    "version": 3
   },
   "file_extension": ".py",
   "mimetype": "text/x-python",
   "name": "python",
   "nbconvert_exporter": "python",
   "pygments_lexer": "ipython3",
   "version": "3.12.7"
  }
 },
 "nbformat": 4,
 "nbformat_minor": 5
}
